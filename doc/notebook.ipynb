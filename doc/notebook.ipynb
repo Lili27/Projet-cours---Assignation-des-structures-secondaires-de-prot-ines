{
 "cells": [
  {
   "cell_type": "markdown",
   "metadata": {},
   "source": [
    "                    Assignation des structures secondaire DSSP"
   ]
  },
  {
   "cell_type": "markdown",
   "metadata": {},
   "source": [
    "Ce projet consite à implémenter le programme de Désignation de structures secondaires des protéine(DSSP) Pour le bon focntionnement des scripts, il faudrait etre dans un environnement conda avec python3."
   ]
  },
  {
   "cell_type": "markdown",
   "metadata": {},
   "source": [
    "installer reduce.3.24.130724  \n"
   ]
  },
  {
   "cell_type": "code",
   "execution_count": null,
   "metadata": {},
   "outputs": [],
   "source": [
    "conda install -c mx reduce"
   ]
  },
  {
   "cell_type": "markdown",
   "metadata": {},
   "source": [
    "    1. Choix des protéines cibles: 1est, 2mbh, 2sga, 6ldh et 7fab\n",
    "    2. Vérification des liaison peptidiques: avec le script verification_liaison_peptidique.py"
   ]
  },
  {
   "cell_type": "code",
   "execution_count": null,
   "metadata": {},
   "outputs": [],
   "source": [
    "python3 verification_liaison_peptidique.py 6ldh.pdb"
   ]
  },
  {
   "cell_type": "markdown",
   "metadata": {},
   "source": [
    "    3. Ajout des liaison Hydrogene à la protéine:\n",
    "    récupérer le fichier out_put: 6ldh_H.pdb"
   ]
  },
  {
   "cell_type": "code",
   "execution_count": null,
   "metadata": {},
   "outputs": [],
   "source": [
    "python3 pdbHydrogene.py 6ldh.pdb"
   ]
  },
  {
   "cell_type": "markdown",
   "metadata": {},
   "source": [
    "    4. Perser le fichier pdb et récupérer les atomes d interet\n",
    "  et récupérer le fichier 6ldh_h_pers.txt (déja présent dans le github car on a eu des problems de compilation)"
   ]
  },
  {
   "cell_type": "code",
   "execution_count": null,
   "metadata": {},
   "outputs": [],
   "source": [
    "python3 perser_fichier.py 6ldh_H.pdb "
   ]
  },
  {
   "cell_type": "markdown",
   "metadata": {},
   "source": [
    "    5. calcul des distances entre les atomes et calcule de l'énergie de liaison"
   ]
  },
  {
   "cell_type": "code",
   "execution_count": null,
   "metadata": {},
   "outputs": [],
   "source": [
    "python3 calcul_energie.py 6ldh_H_parse.txt "
   ]
  }
 ],
 "metadata": {
  "kernelspec": {
   "display_name": "Python 3",
   "language": "python",
   "name": "python3"
  },
  "language_info": {
   "codemirror_mode": {
    "name": "ipython",
    "version": 3
   },
   "file_extension": ".py",
   "mimetype": "text/x-python",
   "name": "python",
   "nbconvert_exporter": "python",
   "pygments_lexer": "ipython3",
   "version": "3.6.9"
  }
 },
 "nbformat": 4,
 "nbformat_minor": 2
}
